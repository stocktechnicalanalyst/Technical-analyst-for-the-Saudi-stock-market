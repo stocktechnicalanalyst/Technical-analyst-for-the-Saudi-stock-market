{
 "cells": [
  {
   "cell_type": "markdown",
   "metadata": {},
   "source": [
    "![LOGO](logo.jpg)"
   ]
  },
  {
   "cell_type": "markdown",
   "metadata": {},
   "source": [
    "<div class=\"alert alert-block alert-success\" style=\"background-color:#2e324f\">\n",
    "<center><b style =\"color:#fff\"> Hind Khaled Daori - 431010252</b>  <center>\n",
    "<br>\n",
    " <center><b style =\"color:#fff\">Manar Alharthi - 431007193 </b>  <center> \n",
    " <br>    \n",
    " <center><b style =\"color:#fff\">Ghaida Saleh – 431000415 </b>  <center>\n",
    "<br>\n",
    " <center><b style =\"color:#fff\">Alanooud Alanzi – 431010246 </b>  <center>\n",
    "<br>\n",
    "\n",
    "</div>"
   ]
  },
  {
   "cell_type": "code",
   "execution_count": 1,
   "metadata": {},
   "outputs": [],
   "source": [
    "import pandas as pd\n",
    "companies = pd.read_csv('sp500_companies.csv', index_col=0)\n",
    "stocks = pd.read_csv('sp500_stocks.csv', index_col=0)"
   ]
  },
  {
   "cell_type": "code",
   "execution_count": 7,
   "metadata": {},
   "outputs": [
    {
     "data": {
      "text/plain": [
       "RandomForestClassifier(class_weight='balanced', criterion='entropy',\n",
       "                       max_depth=8, n_estimators=500, random_state=42)"
      ]
     },
     "execution_count": 7,
     "metadata": {},
     "output_type": "execute_result"
    }
   ],
   "source": [
    "import pickle\n",
    "import numpy as np\n",
    "import warnings\n",
    "warnings.filterwarnings('ignore')\n",
    "filename = 'rec_model.h5'\n",
    "model = pickle.load(open(filename, 'rb'))\n",
    "model"
   ]
  },
  {
   "cell_type": "markdown",
   "metadata": {},
   "source": [
    "<div class=\"alert alert-block alert-success\" style=\"background-color:#2e324f; color:#fff\">\n",
    "<center><br><h1> Start Perdiction </h1><br>  <center>\n",
    "</div>  "
   ]
  },
  {
   "cell_type": "code",
   "execution_count": 10,
   "metadata": {},
   "outputs": [
    {
     "name": "stdout",
     "output_type": "stream",
     "text": [
      "Enter Current Price:855\n",
      "Choose Desired Country:\n",
      "0) Ireland\n",
      "1) Switzerland\n",
      "2) United States\n",
      "Choosen Country is: 2\n"
     ]
    }
   ],
   "source": [
    "currentPrice = float(input(\"Enter Current Price:\"))\n",
    "print(\"Choose Desired Country:\")\n",
    "print(\"0) Ireland\")\n",
    "print(\"1) Switzerland\")\n",
    "print(\"2) United States\")\n",
    "Country = float(input(\"Choosen Country is: \"))"
   ]
  },
  {
   "cell_type": "code",
   "execution_count": 11,
   "metadata": {},
   "outputs": [
    {
     "name": "stdout",
     "output_type": "stream",
     "text": [
      "Predicted Sector is :  Industrials\n"
     ]
    }
   ],
   "source": [
    "#Calculating Prediction\n",
    "#from sklearn import preprocessing\n",
    "#scaler = preprocessing.MinMaxScaler()\n",
    "#new = scaler.fit_transform(np.array([currentPrice,Country]).reshape(1, -1))\n",
    "new = np.array([currentPrice,Country]).reshape(1, -1)\n",
    "y_pred = model.predict(new)\n",
    "\n",
    "\n",
    "if(y_pred == 0):\n",
    "    sector = \"Financial Services\"\n",
    "elif(y_pred == 1):\n",
    "    sector = \"Industrials\"\n",
    "elif(y_pred == 2):\n",
    "    sector = \"Technology\" \n",
    "    \n",
    "print('Predicted Sector is : ' , sector)\n"
   ]
  },
  {
   "cell_type": "markdown",
   "metadata": {},
   "source": [
    "<div class=\"alert alert-block alert-success\" style=\"background-color:#2e324f; color:#fff\">\n",
    "<center><br><h1> Predicted Comapny Info </h1><br>  <center>\n",
    "</div>  "
   ]
  },
  {
   "cell_type": "code",
   "execution_count": 12,
   "metadata": {},
   "outputs": [
    {
     "name": "stdout",
     "output_type": "stream",
     "text": [
      "Symbol:  TDG\n",
      "Company Name:  Transdigm Group Incorporated\n"
     ]
    }
   ],
   "source": [
    "import numpy as np\n",
    "def find_nearest(array, value):\n",
    "    array = np.asarray(array)\n",
    "    idx = (np.abs(array - value)).argmin()\n",
    "    return array[idx]\n",
    "\n",
    "data = companies[companies['Sector'] == sector]\n",
    "new = find_nearest(data['Currentprice'], currentPrice)\n",
    "company_row = data[data['Currentprice'] == new]\n",
    "print('Symbol: ' ,company_row['Symbol'][0])\n",
    "print(\"Company Name: \" , company_row['Shortname'][0])"
   ]
  },
  {
   "cell_type": "code",
   "execution_count": 13,
   "metadata": {},
   "outputs": [
    {
     "data": {
      "text/html": [
       "<div>\n",
       "<style scoped>\n",
       "    .dataframe tbody tr th:only-of-type {\n",
       "        vertical-align: middle;\n",
       "    }\n",
       "\n",
       "    .dataframe tbody tr th {\n",
       "        vertical-align: top;\n",
       "    }\n",
       "\n",
       "    .dataframe thead th {\n",
       "        text-align: right;\n",
       "    }\n",
       "</style>\n",
       "<table border=\"1\" class=\"dataframe\">\n",
       "  <thead>\n",
       "    <tr style=\"text-align: right;\">\n",
       "      <th></th>\n",
       "      <th>Symbol</th>\n",
       "      <th>Adj Close</th>\n",
       "      <th>Close</th>\n",
       "      <th>High</th>\n",
       "      <th>Low</th>\n",
       "      <th>Open</th>\n",
       "      <th>Volume</th>\n",
       "    </tr>\n",
       "    <tr>\n",
       "      <th>Date</th>\n",
       "      <th></th>\n",
       "      <th></th>\n",
       "      <th></th>\n",
       "      <th></th>\n",
       "      <th></th>\n",
       "      <th></th>\n",
       "      <th></th>\n",
       "    </tr>\n",
       "  </thead>\n",
       "  <tbody>\n",
       "    <tr>\n",
       "      <th>2022-04-11</th>\n",
       "      <td>TDG</td>\n",
       "      <td>633.530029</td>\n",
       "      <td>633.530029</td>\n",
       "      <td>647.320007</td>\n",
       "      <td>633.359985</td>\n",
       "      <td>638.25</td>\n",
       "      <td>178100.0</td>\n",
       "    </tr>\n",
       "  </tbody>\n",
       "</table>\n",
       "</div>"
      ],
      "text/plain": [
       "           Symbol   Adj Close       Close        High         Low    Open  \\\n",
       "Date                                                                        \n",
       "2022-04-11    TDG  633.530029  633.530029  647.320007  633.359985  638.25   \n",
       "\n",
       "              Volume  \n",
       "Date                  \n",
       "2022-04-11  178100.0  "
      ]
     },
     "execution_count": 13,
     "metadata": {},
     "output_type": "execute_result"
    }
   ],
   "source": [
    "info = stocks[stocks['Symbol'] == company_row['Symbol'][0]]\n",
    "info.head(8000)\n",
    "info = info.iloc[-1:]\n",
    "info.head()"
   ]
  },
  {
   "cell_type": "code",
   "execution_count": 14,
   "metadata": {},
   "outputs": [
    {
     "name": "stdout",
     "output_type": "stream",
     "text": [
      "Company Name:  Transdigm Group Incorporated\n",
      "Symbol:  TDG\n",
      "Adj Close:  633.530029296875\n",
      "Close:  633.530029296875\n",
      "High:  647.3200073242188\n",
      "Low:  633.3599853515625\n",
      "Open:  638.25\n",
      "Volume:  178100.0\n"
     ]
    }
   ],
   "source": [
    "print(\"Company Name: \" , company_row['Shortname'][0])\n",
    "print('Symbol: ' ,info['Symbol'][0])\n",
    "print(\"Adj Close: \" , info['Adj Close'][0])\n",
    "print('Close: ' ,info['Close'][0])\n",
    "print(\"High: \" , info['High'][0])\n",
    "print('Low: ' ,info['Low'][0])\n",
    "print(\"Open: \" , info['Open'][0])\n",
    "print(\"Volume: \" , info['Volume'][0])"
   ]
  },
  {
   "cell_type": "code",
   "execution_count": null,
   "metadata": {},
   "outputs": [],
   "source": []
  }
 ],
 "metadata": {
  "kernelspec": {
   "display_name": "Python 3",
   "language": "python",
   "name": "python3"
  },
  "language_info": {
   "codemirror_mode": {
    "name": "ipython",
    "version": 3
   },
   "file_extension": ".py",
   "mimetype": "text/x-python",
   "name": "python",
   "nbconvert_exporter": "python",
   "pygments_lexer": "ipython3",
   "version": "3.8.3"
  }
 },
 "nbformat": 4,
 "nbformat_minor": 4
}
